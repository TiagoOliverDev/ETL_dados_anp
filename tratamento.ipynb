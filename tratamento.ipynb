{
 "cells": [
  {
   "cell_type": "code",
   "execution_count": 1,
   "id": "54816af8",
   "metadata": {},
   "outputs": [],
   "source": [
    "import json\n",
    "import pandas as pd\n",
    "import numpy as np\n"
   ]
  },
  {
   "cell_type": "code",
   "execution_count": 58,
   "id": "b4d105e0",
   "metadata": {},
   "outputs": [],
   "source": [
    "import json\n",
    "import pandas as pd\n",
    "\n",
    "# Carrega o arquivo JSON\n",
    "with open('data/raw/revendedores_combustivel_20250802_170416.json', encoding='utf-8') as f:\n",
    "    data = json.load(f)\n",
    "\n",
    "# Extrai a lista de registros\n",
    "registros = data[\"data\"]\n",
    "\n",
    "#1. DataFrame de informações cadastrais\n",
    "colunas_cadastrais = [\n",
    "    'codigoSIMP', 'autorizacao', 'dataPublicacao', 'razaoSocial', 'cnpj',\n",
    "    'endereco', 'complemento', 'bairro', 'cep', 'uf', 'municipio',\n",
    "    'distribuidora', 'dataVinculacao', 'classe'\n",
    "]\n",
    "\n",
    "# Normaliza apenas os campos desejados\n",
    "dados_cadastrais = pd.json_normalize(registros)[colunas_cadastrais]\n",
    "\n",
    "#  2. DataFrame de produtos \n",
    "dados_produtos = pd.json_normalize(\n",
    "    registros,\n",
    "    record_path='produtos',\n",
    "    meta=['codigoSIMP']\n",
    ")\n",
    "\n",
    "#  3. DataFrame de localização \n",
    "dados_geo = pd.json_normalize(registros)[[\n",
    "    'codigoSIMP',\n",
    "    'latitude', 'longitude', 'latitude_ANP4C', 'longitude_ANP4C',\n",
    "    'validacao', 'estimativaAcuracia', 'srid', 'src',\n",
    "    'dataObtencao', 'origemInformacao', 'situacaoConstatada',\n",
    "    'observacao', 'statusSIGAF'\n",
    "]]\n"
   ]
  },
  {
   "cell_type": "code",
   "execution_count": 59,
   "id": "c650fef7",
   "metadata": {},
   "outputs": [],
   "source": [
    "dados_cadastrais.columns = dados_cadastrais.columns.str.lower()\n",
    "dados_produtos.columns = dados_produtos.columns.str.lower()\n",
    "dados_geo.columns = dados_geo.columns.str.lower()"
   ]
  },
  {
   "cell_type": "code",
   "execution_count": 60,
   "id": "77e995d2",
   "metadata": {},
   "outputs": [
    {
     "name": "stderr",
     "output_type": "stream",
     "text": [
      "C:\\Users\\cleto\\AppData\\Local\\Temp\\ipykernel_27540\\2758304496.py:2: FutureWarning: DataFrame.applymap has been deprecated. Use DataFrame.map instead.\n",
      "  dados_geo = dados_geo.applymap(lambda x: x.upper() if isinstance(x, str) else x)\n"
     ]
    }
   ],
   "source": [
    "# mudando para maiúsculas as informações de localização\n",
    "dados_geo = dados_geo.applymap(lambda x: x.upper() if isinstance(x, str) else x)"
   ]
  },
  {
   "cell_type": "code",
   "execution_count": 61,
   "id": "6a1b9eda",
   "metadata": {},
   "outputs": [],
   "source": [
    "# Convertendo a coluna 'tancagem' para inteiro\n",
    "dados_produtos['tancagem'] = dados_produtos['tancagem'].astype(int)"
   ]
  },
  {
   "cell_type": "code",
   "execution_count": 62,
   "id": "d870e854",
   "metadata": {},
   "outputs": [],
   "source": [
    "# colunas que possui informações em código ou pouco relevantes\n",
    "dados_geo = dados_geo.drop(columns=['origeminformacao', 'observacao', 'situacaoconstatada', 'srid'])"
   ]
  },
  {
   "cell_type": "code",
   "execution_count": 63,
   "id": "9ec930ae",
   "metadata": {},
   "outputs": [],
   "source": [
    "# da pra colocar NA aqui ou NaN \n",
    "dados_cadastrais.replace('', np.nan, inplace=True)\n",
    "dados_produtos.replace('', np.nan, inplace=True)\n",
    "dados_geo.replace('', np.nan, inplace=True)"
   ]
  },
  {
   "cell_type": "code",
   "execution_count": null,
   "id": "2a2b786b",
   "metadata": {},
   "outputs": [],
   "source": [
    "dados_cadastrais.to_json('data/processed/dados_cadastrais.json', orient='records', force_ascii=False, indent=4)\n",
    "dados_produtos.to_json('data/processed/dados_produtos.json', orient='records', force_ascii=False, indent=4)\n",
    "dados_geo.to_json('data/processed/dados_geo.json', orient='records', force_ascii=False, indent=4)\n",
    "\n",
    "\n"
   ]
  },
  {
   "cell_type": "code",
   "execution_count": null,
   "id": "6c26bcd7",
   "metadata": {},
   "outputs": [],
   "source": []
  }
 ],
 "metadata": {
  "kernelspec": {
   "display_name": "Python 3",
   "language": "python",
   "name": "python3"
  },
  "language_info": {
   "codemirror_mode": {
    "name": "ipython",
    "version": 3
   },
   "file_extension": ".py",
   "mimetype": "text/x-python",
   "name": "python",
   "nbconvert_exporter": "python",
   "pygments_lexer": "ipython3",
   "version": "3.13.2"
  }
 },
 "nbformat": 4,
 "nbformat_minor": 5
}
